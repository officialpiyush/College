{
 "cells": [
  {
   "cell_type": "code",
   "execution_count": 1,
   "id": "22d9f250",
   "metadata": {},
   "outputs": [
    {
     "name": "stdout",
     "output_type": "stream",
     "text": [
      "Defaulting to user installation because normal site-packages is not writeable\n",
      "Requirement already satisfied: numpy in /home/piyush/.local/lib/python3.11/site-packages (1.24.0)\n",
      "Requirement already satisfied: pandas in /home/piyush/.local/lib/python3.11/site-packages (1.5.2)\n",
      "Requirement already satisfied: matplotlib in /home/piyush/.local/lib/python3.11/site-packages (3.6.2)\n",
      "Requirement already satisfied: python-dateutil>=2.8.1 in /usr/lib/python3.11/site-packages (from pandas) (2.8.2)\n",
      "Requirement already satisfied: pytz>=2020.1 in /home/piyush/.local/lib/python3.11/site-packages (from pandas) (2022.7)\n",
      "Requirement already satisfied: contourpy>=1.0.1 in /home/piyush/.local/lib/python3.11/site-packages (from matplotlib) (1.0.6)\n",
      "Requirement already satisfied: cycler>=0.10 in /home/piyush/.local/lib/python3.11/site-packages (from matplotlib) (0.11.0)\n",
      "Requirement already satisfied: fonttools>=4.22.0 in /home/piyush/.local/lib/python3.11/site-packages (from matplotlib) (4.38.0)\n",
      "Requirement already satisfied: kiwisolver>=1.0.1 in /home/piyush/.local/lib/python3.11/site-packages (from matplotlib) (1.4.4)\n",
      "Requirement already satisfied: packaging>=20.0 in /usr/lib/python3.11/site-packages (from matplotlib) (21.3)\n",
      "Requirement already satisfied: pillow>=6.2.0 in /usr/lib64/python3.11/site-packages (from matplotlib) (9.2.0)\n",
      "Requirement already satisfied: pyparsing>=2.2.1 in /usr/lib/python3.11/site-packages (from matplotlib) (3.0.9)\n",
      "Requirement already satisfied: six>=1.5 in /usr/lib/python3.11/site-packages (from python-dateutil>=2.8.1->pandas) (1.16.0)\n"
     ]
    }
   ],
   "source": [
    "!pip install numpy pandas matplotlib"
   ]
  },
  {
   "cell_type": "code",
   "execution_count": null,
   "id": "a9004038",
   "metadata": {},
   "outputs": [],
   "source": []
  },
  {
   "cell_type": "code",
   "execution_count": 1,
   "id": "78356d17",
   "metadata": {},
   "outputs": [],
   "source": [
    "import numpy as np\n",
    "import pandas as pd\n",
    "import matplotlib.pyplot as plt"
   ]
  },
  {
   "cell_type": "code",
   "execution_count": 4,
   "id": "878868b1",
   "metadata": {},
   "outputs": [],
   "source": [
    "df = pd.read_csv(\"./data/credit_cards.csv\")"
   ]
  },
  {
   "cell_type": "code",
   "execution_count": 5,
   "id": "f2004d7c",
   "metadata": {},
   "outputs": [
    {
     "data": {
      "text/plain": [
       "(284617, 31)"
      ]
     },
     "execution_count": 5,
     "metadata": {},
     "output_type": "execute_result"
    }
   ],
   "source": [
    "df.shape"
   ]
  },
  {
   "cell_type": "code",
   "execution_count": 6,
   "id": "4e3bb004",
   "metadata": {},
   "outputs": [
    {
     "data": {
      "text/html": [
       "<div>\n",
       "<style scoped>\n",
       "    .dataframe tbody tr th:only-of-type {\n",
       "        vertical-align: middle;\n",
       "    }\n",
       "\n",
       "    .dataframe tbody tr th {\n",
       "        vertical-align: top;\n",
       "    }\n",
       "\n",
       "    .dataframe thead th {\n",
       "        text-align: right;\n",
       "    }\n",
       "</style>\n",
       "<table border=\"1\" class=\"dataframe\">\n",
       "  <thead>\n",
       "    <tr style=\"text-align: right;\">\n",
       "      <th></th>\n",
       "      <th>Time</th>\n",
       "      <th>V1</th>\n",
       "      <th>V2</th>\n",
       "      <th>V3</th>\n",
       "      <th>V4</th>\n",
       "      <th>V5</th>\n",
       "      <th>V6</th>\n",
       "      <th>V7</th>\n",
       "      <th>V8</th>\n",
       "      <th>V9</th>\n",
       "      <th>...</th>\n",
       "      <th>V21</th>\n",
       "      <th>V22</th>\n",
       "      <th>V23</th>\n",
       "      <th>V24</th>\n",
       "      <th>V25</th>\n",
       "      <th>V26</th>\n",
       "      <th>V27</th>\n",
       "      <th>V28</th>\n",
       "      <th>Amount</th>\n",
       "      <th>Class</th>\n",
       "    </tr>\n",
       "  </thead>\n",
       "  <tbody>\n",
       "    <tr>\n",
       "      <th>count</th>\n",
       "      <td>120102.000000</td>\n",
       "      <td>120102.000000</td>\n",
       "      <td>120102.000000</td>\n",
       "      <td>120102.000000</td>\n",
       "      <td>120102.000000</td>\n",
       "      <td>120102.000000</td>\n",
       "      <td>120102.000000</td>\n",
       "      <td>120102.000000</td>\n",
       "      <td>120102.000000</td>\n",
       "      <td>120102.000000</td>\n",
       "      <td>...</td>\n",
       "      <td>120102.000000</td>\n",
       "      <td>120102.000000</td>\n",
       "      <td>120102.000000</td>\n",
       "      <td>120102.000000</td>\n",
       "      <td>120102.000000</td>\n",
       "      <td>120102.000000</td>\n",
       "      <td>120102.000000</td>\n",
       "      <td>120102.000000</td>\n",
       "      <td>120102.000000</td>\n",
       "      <td>120102.000000</td>\n",
       "    </tr>\n",
       "    <tr>\n",
       "      <th>mean</th>\n",
       "      <td>47306.966145</td>\n",
       "      <td>-0.253937</td>\n",
       "      <td>-0.009144</td>\n",
       "      <td>0.678441</td>\n",
       "      <td>0.153929</td>\n",
       "      <td>-0.283411</td>\n",
       "      <td>0.088807</td>\n",
       "      <td>-0.114580</td>\n",
       "      <td>0.060709</td>\n",
       "      <td>-0.078083</td>\n",
       "      <td>...</td>\n",
       "      <td>-0.035040</td>\n",
       "      <td>-0.113416</td>\n",
       "      <td>-0.035506</td>\n",
       "      <td>0.011474</td>\n",
       "      <td>0.130909</td>\n",
       "      <td>0.027463</td>\n",
       "      <td>0.000886</td>\n",
       "      <td>0.001956</td>\n",
       "      <td>94.350859</td>\n",
       "      <td>0.002057</td>\n",
       "    </tr>\n",
       "    <tr>\n",
       "      <th>std</th>\n",
       "      <td>19002.654164</td>\n",
       "      <td>1.837118</td>\n",
       "      <td>1.635699</td>\n",
       "      <td>1.292224</td>\n",
       "      <td>1.335784</td>\n",
       "      <td>1.330796</td>\n",
       "      <td>1.292478</td>\n",
       "      <td>1.190518</td>\n",
       "      <td>1.222930</td>\n",
       "      <td>1.095604</td>\n",
       "      <td>...</td>\n",
       "      <td>0.730661</td>\n",
       "      <td>0.637432</td>\n",
       "      <td>0.614970</td>\n",
       "      <td>0.594956</td>\n",
       "      <td>0.439260</td>\n",
       "      <td>0.491135</td>\n",
       "      <td>0.394747</td>\n",
       "      <td>0.317098</td>\n",
       "      <td>256.171267</td>\n",
       "      <td>0.045303</td>\n",
       "    </tr>\n",
       "    <tr>\n",
       "      <th>min</th>\n",
       "      <td>0.000000</td>\n",
       "      <td>-56.407510</td>\n",
       "      <td>-72.715728</td>\n",
       "      <td>-33.680984</td>\n",
       "      <td>-5.172595</td>\n",
       "      <td>-42.147898</td>\n",
       "      <td>-26.160506</td>\n",
       "      <td>-31.764946</td>\n",
       "      <td>-73.216718</td>\n",
       "      <td>-9.283925</td>\n",
       "      <td>...</td>\n",
       "      <td>-34.830382</td>\n",
       "      <td>-10.933144</td>\n",
       "      <td>-44.807735</td>\n",
       "      <td>-2.836627</td>\n",
       "      <td>-10.295397</td>\n",
       "      <td>-2.534330</td>\n",
       "      <td>-22.565679</td>\n",
       "      <td>-11.710896</td>\n",
       "      <td>0.000000</td>\n",
       "      <td>0.000000</td>\n",
       "    </tr>\n",
       "    <tr>\n",
       "      <th>25%</th>\n",
       "      <td>35743.250000</td>\n",
       "      <td>-1.022491</td>\n",
       "      <td>-0.584527</td>\n",
       "      <td>0.174378</td>\n",
       "      <td>-0.706471</td>\n",
       "      <td>-0.904274</td>\n",
       "      <td>-0.653745</td>\n",
       "      <td>-0.601995</td>\n",
       "      <td>-0.133775</td>\n",
       "      <td>-0.707211</td>\n",
       "      <td>...</td>\n",
       "      <td>-0.225430</td>\n",
       "      <td>-0.541265</td>\n",
       "      <td>-0.174236</td>\n",
       "      <td>-0.324191</td>\n",
       "      <td>-0.134294</td>\n",
       "      <td>-0.323134</td>\n",
       "      <td>-0.060832</td>\n",
       "      <td>-0.004564</td>\n",
       "      <td>6.850000</td>\n",
       "      <td>0.000000</td>\n",
       "    </tr>\n",
       "    <tr>\n",
       "      <th>50%</th>\n",
       "      <td>49132.500000</td>\n",
       "      <td>-0.263911</td>\n",
       "      <td>0.089585</td>\n",
       "      <td>0.752924</td>\n",
       "      <td>0.181703</td>\n",
       "      <td>-0.315819</td>\n",
       "      <td>-0.164160</td>\n",
       "      <td>-0.066481</td>\n",
       "      <td>0.077892</td>\n",
       "      <td>-0.140259</td>\n",
       "      <td>...</td>\n",
       "      <td>-0.058577</td>\n",
       "      <td>-0.091378</td>\n",
       "      <td>-0.047622</td>\n",
       "      <td>0.067947</td>\n",
       "      <td>0.167801</td>\n",
       "      <td>-0.063977</td>\n",
       "      <td>0.010873</td>\n",
       "      <td>0.023450</td>\n",
       "      <td>24.990000</td>\n",
       "      <td>0.000000</td>\n",
       "    </tr>\n",
       "    <tr>\n",
       "      <th>75%</th>\n",
       "      <td>62858.750000</td>\n",
       "      <td>1.155693</td>\n",
       "      <td>0.755746</td>\n",
       "      <td>1.373986</td>\n",
       "      <td>1.013276</td>\n",
       "      <td>0.242161</td>\n",
       "      <td>0.478658</td>\n",
       "      <td>0.411820</td>\n",
       "      <td>0.370387</td>\n",
       "      <td>0.506689</td>\n",
       "      <td>...</td>\n",
       "      <td>0.117275</td>\n",
       "      <td>0.306130</td>\n",
       "      <td>0.082380</td>\n",
       "      <td>0.408521</td>\n",
       "      <td>0.419257</td>\n",
       "      <td>0.293203</td>\n",
       "      <td>0.084922</td>\n",
       "      <td>0.077257</td>\n",
       "      <td>84.980000</td>\n",
       "      <td>0.000000</td>\n",
       "    </tr>\n",
       "    <tr>\n",
       "      <th>max</th>\n",
       "      <td>75710.000000</td>\n",
       "      <td>1.960497</td>\n",
       "      <td>18.902453</td>\n",
       "      <td>9.382558</td>\n",
       "      <td>16.715537</td>\n",
       "      <td>34.801666</td>\n",
       "      <td>22.529298</td>\n",
       "      <td>36.677268</td>\n",
       "      <td>20.007208</td>\n",
       "      <td>15.594995</td>\n",
       "      <td>...</td>\n",
       "      <td>27.202839</td>\n",
       "      <td>10.503090</td>\n",
       "      <td>19.002942</td>\n",
       "      <td>4.016342</td>\n",
       "      <td>5.541598</td>\n",
       "      <td>3.517346</td>\n",
       "      <td>12.152401</td>\n",
       "      <td>33.847808</td>\n",
       "      <td>19656.530000</td>\n",
       "      <td>1.000000</td>\n",
       "    </tr>\n",
       "  </tbody>\n",
       "</table>\n",
       "<p>8 rows × 31 columns</p>\n",
       "</div>"
      ],
      "text/plain": [
       "                Time             V1             V2             V3  \\\n",
       "count  120102.000000  120102.000000  120102.000000  120102.000000   \n",
       "mean    47306.966145      -0.253937      -0.009144       0.678441   \n",
       "std     19002.654164       1.837118       1.635699       1.292224   \n",
       "min         0.000000     -56.407510     -72.715728     -33.680984   \n",
       "25%     35743.250000      -1.022491      -0.584527       0.174378   \n",
       "50%     49132.500000      -0.263911       0.089585       0.752924   \n",
       "75%     62858.750000       1.155693       0.755746       1.373986   \n",
       "max     75710.000000       1.960497      18.902453       9.382558   \n",
       "\n",
       "                  V4             V5             V6             V7  \\\n",
       "count  120102.000000  120102.000000  120102.000000  120102.000000   \n",
       "mean        0.153929      -0.283411       0.088807      -0.114580   \n",
       "std         1.335784       1.330796       1.292478       1.190518   \n",
       "min        -5.172595     -42.147898     -26.160506     -31.764946   \n",
       "25%        -0.706471      -0.904274      -0.653745      -0.601995   \n",
       "50%         0.181703      -0.315819      -0.164160      -0.066481   \n",
       "75%         1.013276       0.242161       0.478658       0.411820   \n",
       "max        16.715537      34.801666      22.529298      36.677268   \n",
       "\n",
       "                  V8             V9  ...            V21            V22  \\\n",
       "count  120102.000000  120102.000000  ...  120102.000000  120102.000000   \n",
       "mean        0.060709      -0.078083  ...      -0.035040      -0.113416   \n",
       "std         1.222930       1.095604  ...       0.730661       0.637432   \n",
       "min       -73.216718      -9.283925  ...     -34.830382     -10.933144   \n",
       "25%        -0.133775      -0.707211  ...      -0.225430      -0.541265   \n",
       "50%         0.077892      -0.140259  ...      -0.058577      -0.091378   \n",
       "75%         0.370387       0.506689  ...       0.117275       0.306130   \n",
       "max        20.007208      15.594995  ...      27.202839      10.503090   \n",
       "\n",
       "                 V23            V24            V25            V26  \\\n",
       "count  120102.000000  120102.000000  120102.000000  120102.000000   \n",
       "mean       -0.035506       0.011474       0.130909       0.027463   \n",
       "std         0.614970       0.594956       0.439260       0.491135   \n",
       "min       -44.807735      -2.836627     -10.295397      -2.534330   \n",
       "25%        -0.174236      -0.324191      -0.134294      -0.323134   \n",
       "50%        -0.047622       0.067947       0.167801      -0.063977   \n",
       "75%         0.082380       0.408521       0.419257       0.293203   \n",
       "max        19.002942       4.016342       5.541598       3.517346   \n",
       "\n",
       "                 V27            V28         Amount          Class  \n",
       "count  120102.000000  120102.000000  120102.000000  120102.000000  \n",
       "mean        0.000886       0.001956      94.350859       0.002057  \n",
       "std         0.394747       0.317098     256.171267       0.045303  \n",
       "min       -22.565679     -11.710896       0.000000       0.000000  \n",
       "25%        -0.060832      -0.004564       6.850000       0.000000  \n",
       "50%         0.010873       0.023450      24.990000       0.000000  \n",
       "75%         0.084922       0.077257      84.980000       0.000000  \n",
       "max        12.152401      33.847808   19656.530000       1.000000  \n",
       "\n",
       "[8 rows x 31 columns]"
      ]
     },
     "execution_count": 6,
     "metadata": {},
     "output_type": "execute_result"
    }
   ],
   "source": [
    "df.describe()"
   ]
  },
  {
   "cell_type": "code",
   "execution_count": 7,
   "id": "d8703dd5",
   "metadata": {},
   "outputs": [
    {
     "name": "stdout",
     "output_type": "stream",
     "text": [
      "<class 'pandas.core.frame.DataFrame'>\n",
      "RangeIndex: 284617 entries, 0 to 284616\n",
      "Data columns (total 31 columns):\n",
      " #   Column  Non-Null Count   Dtype  \n",
      "---  ------  --------------   -----  \n",
      " 0   Time    120102 non-null  float64\n",
      " 1   V1      120102 non-null  float64\n",
      " 2   V2      120102 non-null  float64\n",
      " 3   V3      120102 non-null  float64\n",
      " 4   V4      120102 non-null  float64\n",
      " 5   V5      120102 non-null  float64\n",
      " 6   V6      120102 non-null  float64\n",
      " 7   V7      120102 non-null  float64\n",
      " 8   V8      120102 non-null  float64\n",
      " 9   V9      120102 non-null  float64\n",
      " 10  V10     120102 non-null  float64\n",
      " 11  V11     120102 non-null  float64\n",
      " 12  V12     120102 non-null  float64\n",
      " 13  V13     120102 non-null  float64\n",
      " 14  V14     120102 non-null  float64\n",
      " 15  V15     120102 non-null  float64\n",
      " 16  V16     120102 non-null  float64\n",
      " 17  V17     120102 non-null  float64\n",
      " 18  V18     120102 non-null  float64\n",
      " 19  V19     120102 non-null  float64\n",
      " 20  V20     120102 non-null  float64\n",
      " 21  V21     120102 non-null  float64\n",
      " 22  V22     120102 non-null  float64\n",
      " 23  V23     120102 non-null  float64\n",
      " 24  V24     120102 non-null  float64\n",
      " 25  V25     120102 non-null  float64\n",
      " 26  V26     120102 non-null  float64\n",
      " 27  V27     120102 non-null  float64\n",
      " 28  V28     120102 non-null  float64\n",
      " 29  Amount  120102 non-null  float64\n",
      " 30  Class   120102 non-null  float64\n",
      "dtypes: float64(31)\n",
      "memory usage: 67.3 MB\n"
     ]
    }
   ],
   "source": [
    "df.info()"
   ]
  },
  {
   "cell_type": "code",
   "execution_count": 9,
   "id": "d97a1e03",
   "metadata": {},
   "outputs": [
    {
     "name": "stdout",
     "output_type": "stream",
     "text": [
      "Defaulting to user installation because normal site-packages is not writeable\n",
      "Collecting sklearn\n",
      "  Downloading sklearn-0.0.post1.tar.gz (3.6 kB)\n",
      "  Preparing metadata (setup.py) ... \u001b[?25ldone\n",
      "\u001b[?25hUsing legacy 'setup.py install' for sklearn, since package 'wheel' is not installed.\n",
      "Installing collected packages: sklearn\n",
      "  Running setup.py install for sklearn ... \u001b[?25ldone\n",
      "\u001b[?25hSuccessfully installed sklearn-0.0.post1\n"
     ]
    }
   ],
   "source": [
    "!pip install sklearn"
   ]
  },
  {
   "cell_type": "code",
   "execution_count": 11,
   "id": "4de9db6f",
   "metadata": {},
   "outputs": [
    {
     "name": "stdout",
     "output_type": "stream",
     "text": [
      "Defaulting to user installation because normal site-packages is not writeable\n",
      "Collecting scikit-learn\n",
      "  Downloading scikit_learn-1.2.0-cp311-cp311-manylinux_2_17_x86_64.manylinux2014_x86_64.whl (9.5 MB)\n",
      "\u001b[2K     \u001b[38;2;114;156;31m━━━━━━━━━━━━━━━━━━━━━━━━━━━━━━━━━━━━━━━━\u001b[0m \u001b[32m9.5/9.5 MB\u001b[0m \u001b[31m617.3 kB/s\u001b[0m eta \u001b[36m0:00:00\u001b[0mm eta \u001b[36m0:00:01\u001b[0m[36m0:00:01\u001b[0m\n",
      "\u001b[?25hCollecting scipy\n",
      "  Downloading scipy-1.9.3-cp311-cp311-manylinux_2_17_x86_64.manylinux2014_x86_64.whl (33.4 MB)\n",
      "\u001b[2K     \u001b[38;2;114;156;31m━━━━━━━━━━━━━━━━━━━━━━━━━━━━━━━━━━━━━━━━\u001b[0m \u001b[32m33.4/33.4 MB\u001b[0m \u001b[31m2.3 MB/s\u001b[0m eta \u001b[36m0:00:00\u001b[0mm eta \u001b[36m0:00:01\u001b[0m[36m0:00:01\u001b[0m\n",
      "\u001b[?25hRequirement already satisfied: matplotlib in /home/piyush/.local/lib/python3.11/site-packages (3.6.2)\n",
      "Requirement already satisfied: numpy>=1.17.3 in /home/piyush/.local/lib/python3.11/site-packages (from scikit-learn) (1.24.0)\n",
      "Collecting joblib>=1.1.1\n",
      "  Downloading joblib-1.2.0-py3-none-any.whl (297 kB)\n",
      "\u001b[2K     \u001b[38;2;114;156;31m━━━━━━━━━━━━━━━━━━━━━━━━━━━━━━━━━━━━━━━\u001b[0m \u001b[32m298.0/298.0 kB\u001b[0m \u001b[31m3.9 MB/s\u001b[0m eta \u001b[36m0:00:00\u001b[0m[31m3.9 MB/s\u001b[0m eta \u001b[36m0:00:01\u001b[0m\n",
      "\u001b[?25hCollecting threadpoolctl>=2.0.0\n",
      "  Downloading threadpoolctl-3.1.0-py3-none-any.whl (14 kB)\n",
      "Requirement already satisfied: contourpy>=1.0.1 in /home/piyush/.local/lib/python3.11/site-packages (from matplotlib) (1.0.6)\n",
      "Requirement already satisfied: cycler>=0.10 in /home/piyush/.local/lib/python3.11/site-packages (from matplotlib) (0.11.0)\n",
      "Requirement already satisfied: fonttools>=4.22.0 in /home/piyush/.local/lib/python3.11/site-packages (from matplotlib) (4.38.0)\n",
      "Requirement already satisfied: kiwisolver>=1.0.1 in /home/piyush/.local/lib/python3.11/site-packages (from matplotlib) (1.4.4)\n",
      "Requirement already satisfied: packaging>=20.0 in /usr/lib/python3.11/site-packages (from matplotlib) (21.3)\n",
      "Requirement already satisfied: pillow>=6.2.0 in /usr/lib64/python3.11/site-packages (from matplotlib) (9.2.0)\n",
      "Requirement already satisfied: pyparsing>=2.2.1 in /usr/lib/python3.11/site-packages (from matplotlib) (3.0.9)\n",
      "Requirement already satisfied: python-dateutil>=2.7 in /usr/lib/python3.11/site-packages (from matplotlib) (2.8.2)\n",
      "Requirement already satisfied: six>=1.5 in /usr/lib/python3.11/site-packages (from python-dateutil>=2.7->matplotlib) (1.16.0)\n",
      "Installing collected packages: threadpoolctl, scipy, joblib, scikit-learn\n",
      "Successfully installed joblib-1.2.0 scikit-learn-1.2.0 scipy-1.9.3 threadpoolctl-3.1.0\n"
     ]
    }
   ],
   "source": [
    "!pip install scikit-learn scipy matplotlib"
   ]
  },
  {
   "cell_type": "code",
   "execution_count": 12,
   "id": "04727bcc",
   "metadata": {},
   "outputs": [],
   "source": [
    "from sklearn.metrics import confusion_matrix,auc,roc_auc_score\n",
    "from sklearn.metrics import recall_score, precision_score, accuracy_score, f1_score\n"
   ]
  },
  {
   "cell_type": "code",
   "execution_count": 15,
   "id": "9daf1581",
   "metadata": {},
   "outputs": [
    {
     "name": "stdout",
     "output_type": "stream",
     "text": [
      "\n",
      "\n",
      "\n"
     ]
    },
    {
     "data": {
      "text/plain": [
       "Time      164515\n",
       "V1        164515\n",
       "V2        164515\n",
       "V3        164515\n",
       "V4        164515\n",
       "V5        164515\n",
       "V6        164515\n",
       "V7        164515\n",
       "V8        164515\n",
       "V9        164515\n",
       "V10       164515\n",
       "V11       164515\n",
       "V12       164515\n",
       "V13       164515\n",
       "V14       164515\n",
       "V15       164515\n",
       "V16       164515\n",
       "V17       164515\n",
       "V18       164515\n",
       "V19       164515\n",
       "V20       164515\n",
       "V21       164515\n",
       "V22       164515\n",
       "V23       164515\n",
       "V24       164515\n",
       "V25       164515\n",
       "V26       164515\n",
       "V27       164515\n",
       "V28       164515\n",
       "Amount    164515\n",
       "Class     164515\n",
       "dtype: int64"
      ]
     },
     "execution_count": 15,
     "metadata": {},
     "output_type": "execute_result"
    }
   ],
   "source": [
    "df.isnull().values.any()\n",
    "print(\"\\n\\n\")\n",
    "df.isnull().sum()"
   ]
  },
  {
   "cell_type": "code",
   "execution_count": 16,
   "id": "8a6f5da1",
   "metadata": {},
   "outputs": [
    {
     "name": "stdout",
     "output_type": "stream",
     "text": [
      "Class as pie chart:\n"
     ]
    }
   ],
   "source": [
    "print(\"Class as pie chart:\")"
   ]
  },
  {
   "cell_type": "code",
   "execution_count": 17,
   "id": "11a21852",
   "metadata": {},
   "outputs": [
    {
     "data": {
      "text/html": [
       "<div>\n",
       "<style scoped>\n",
       "    .dataframe tbody tr th:only-of-type {\n",
       "        vertical-align: middle;\n",
       "    }\n",
       "\n",
       "    .dataframe tbody tr th {\n",
       "        vertical-align: top;\n",
       "    }\n",
       "\n",
       "    .dataframe thead th {\n",
       "        text-align: right;\n",
       "    }\n",
       "</style>\n",
       "<table border=\"1\" class=\"dataframe\">\n",
       "  <thead>\n",
       "    <tr style=\"text-align: right;\">\n",
       "      <th></th>\n",
       "      <th>Time</th>\n",
       "      <th>V1</th>\n",
       "      <th>V2</th>\n",
       "      <th>V3</th>\n",
       "      <th>V4</th>\n",
       "      <th>V5</th>\n",
       "      <th>V6</th>\n",
       "      <th>V7</th>\n",
       "      <th>V8</th>\n",
       "      <th>V9</th>\n",
       "      <th>...</th>\n",
       "      <th>V21</th>\n",
       "      <th>V22</th>\n",
       "      <th>V23</th>\n",
       "      <th>V24</th>\n",
       "      <th>V25</th>\n",
       "      <th>V26</th>\n",
       "      <th>V27</th>\n",
       "      <th>V28</th>\n",
       "      <th>Amount</th>\n",
       "      <th>Class</th>\n",
       "    </tr>\n",
       "  </thead>\n",
       "  <tbody>\n",
       "    <tr>\n",
       "      <th>0</th>\n",
       "      <td>0.0</td>\n",
       "      <td>-1.359807</td>\n",
       "      <td>-0.072781</td>\n",
       "      <td>2.536347</td>\n",
       "      <td>1.378155</td>\n",
       "      <td>-0.338321</td>\n",
       "      <td>0.462388</td>\n",
       "      <td>0.239599</td>\n",
       "      <td>0.098698</td>\n",
       "      <td>0.363787</td>\n",
       "      <td>...</td>\n",
       "      <td>-0.018307</td>\n",
       "      <td>0.277838</td>\n",
       "      <td>-0.110474</td>\n",
       "      <td>0.066928</td>\n",
       "      <td>0.128539</td>\n",
       "      <td>-0.189115</td>\n",
       "      <td>0.133558</td>\n",
       "      <td>-0.021053</td>\n",
       "      <td>149.62</td>\n",
       "      <td>0.0</td>\n",
       "    </tr>\n",
       "    <tr>\n",
       "      <th>1</th>\n",
       "      <td>0.0</td>\n",
       "      <td>1.191857</td>\n",
       "      <td>0.266151</td>\n",
       "      <td>0.166480</td>\n",
       "      <td>0.448154</td>\n",
       "      <td>0.060018</td>\n",
       "      <td>-0.082361</td>\n",
       "      <td>-0.078803</td>\n",
       "      <td>0.085102</td>\n",
       "      <td>-0.255425</td>\n",
       "      <td>...</td>\n",
       "      <td>-0.225775</td>\n",
       "      <td>-0.638672</td>\n",
       "      <td>0.101288</td>\n",
       "      <td>-0.339846</td>\n",
       "      <td>0.167170</td>\n",
       "      <td>0.125895</td>\n",
       "      <td>-0.008983</td>\n",
       "      <td>0.014724</td>\n",
       "      <td>2.69</td>\n",
       "      <td>0.0</td>\n",
       "    </tr>\n",
       "    <tr>\n",
       "      <th>2</th>\n",
       "      <td>1.0</td>\n",
       "      <td>-1.358354</td>\n",
       "      <td>-1.340163</td>\n",
       "      <td>1.773209</td>\n",
       "      <td>0.379780</td>\n",
       "      <td>-0.503198</td>\n",
       "      <td>1.800499</td>\n",
       "      <td>0.791461</td>\n",
       "      <td>0.247676</td>\n",
       "      <td>-1.514654</td>\n",
       "      <td>...</td>\n",
       "      <td>0.247998</td>\n",
       "      <td>0.771679</td>\n",
       "      <td>0.909412</td>\n",
       "      <td>-0.689281</td>\n",
       "      <td>-0.327642</td>\n",
       "      <td>-0.139097</td>\n",
       "      <td>-0.055353</td>\n",
       "      <td>-0.059752</td>\n",
       "      <td>378.66</td>\n",
       "      <td>0.0</td>\n",
       "    </tr>\n",
       "    <tr>\n",
       "      <th>3</th>\n",
       "      <td>1.0</td>\n",
       "      <td>-0.966272</td>\n",
       "      <td>-0.185226</td>\n",
       "      <td>1.792993</td>\n",
       "      <td>-0.863291</td>\n",
       "      <td>-0.010309</td>\n",
       "      <td>1.247203</td>\n",
       "      <td>0.237609</td>\n",
       "      <td>0.377436</td>\n",
       "      <td>-1.387024</td>\n",
       "      <td>...</td>\n",
       "      <td>-0.108300</td>\n",
       "      <td>0.005274</td>\n",
       "      <td>-0.190321</td>\n",
       "      <td>-1.175575</td>\n",
       "      <td>0.647376</td>\n",
       "      <td>-0.221929</td>\n",
       "      <td>0.062723</td>\n",
       "      <td>0.061458</td>\n",
       "      <td>123.50</td>\n",
       "      <td>0.0</td>\n",
       "    </tr>\n",
       "    <tr>\n",
       "      <th>4</th>\n",
       "      <td>2.0</td>\n",
       "      <td>-1.158233</td>\n",
       "      <td>0.877737</td>\n",
       "      <td>1.548718</td>\n",
       "      <td>0.403034</td>\n",
       "      <td>-0.407193</td>\n",
       "      <td>0.095921</td>\n",
       "      <td>0.592941</td>\n",
       "      <td>-0.270533</td>\n",
       "      <td>0.817739</td>\n",
       "      <td>...</td>\n",
       "      <td>-0.009431</td>\n",
       "      <td>0.798278</td>\n",
       "      <td>-0.137458</td>\n",
       "      <td>0.141267</td>\n",
       "      <td>-0.206010</td>\n",
       "      <td>0.502292</td>\n",
       "      <td>0.219422</td>\n",
       "      <td>0.215153</td>\n",
       "      <td>69.99</td>\n",
       "      <td>0.0</td>\n",
       "    </tr>\n",
       "  </tbody>\n",
       "</table>\n",
       "<p>5 rows × 31 columns</p>\n",
       "</div>"
      ],
      "text/plain": [
       "   Time        V1        V2        V3        V4        V5        V6        V7  \\\n",
       "0   0.0 -1.359807 -0.072781  2.536347  1.378155 -0.338321  0.462388  0.239599   \n",
       "1   0.0  1.191857  0.266151  0.166480  0.448154  0.060018 -0.082361 -0.078803   \n",
       "2   1.0 -1.358354 -1.340163  1.773209  0.379780 -0.503198  1.800499  0.791461   \n",
       "3   1.0 -0.966272 -0.185226  1.792993 -0.863291 -0.010309  1.247203  0.237609   \n",
       "4   2.0 -1.158233  0.877737  1.548718  0.403034 -0.407193  0.095921  0.592941   \n",
       "\n",
       "         V8        V9  ...       V21       V22       V23       V24       V25  \\\n",
       "0  0.098698  0.363787  ... -0.018307  0.277838 -0.110474  0.066928  0.128539   \n",
       "1  0.085102 -0.255425  ... -0.225775 -0.638672  0.101288 -0.339846  0.167170   \n",
       "2  0.247676 -1.514654  ...  0.247998  0.771679  0.909412 -0.689281 -0.327642   \n",
       "3  0.377436 -1.387024  ... -0.108300  0.005274 -0.190321 -1.175575  0.647376   \n",
       "4 -0.270533  0.817739  ... -0.009431  0.798278 -0.137458  0.141267 -0.206010   \n",
       "\n",
       "        V26       V27       V28  Amount  Class  \n",
       "0 -0.189115  0.133558 -0.021053  149.62    0.0  \n",
       "1  0.125895 -0.008983  0.014724    2.69    0.0  \n",
       "2 -0.139097 -0.055353 -0.059752  378.66    0.0  \n",
       "3 -0.221929  0.062723  0.061458  123.50    0.0  \n",
       "4  0.502292  0.219422  0.215153   69.99    0.0  \n",
       "\n",
       "[5 rows x 31 columns]"
      ]
     },
     "execution_count": 17,
     "metadata": {},
     "output_type": "execute_result"
    }
   ],
   "source": [
    "df.head()"
   ]
  },
  {
   "cell_type": "code",
   "execution_count": 18,
   "id": "88e4b077",
   "metadata": {},
   "outputs": [
    {
     "data": {
      "text/plain": [
       "Text(0, 0.5, '')"
      ]
     },
     "execution_count": 18,
     "metadata": {},
     "output_type": "execute_result"
    },
    {
     "data": {
      "image/png": "[encoded data removed]",
      "text/plain": [
       "<Figure size 640x480 with 1 Axes>"
      ]
     },
     "metadata": {},
     "output_type": "display_data"
    }
   ],
   "source": [
    "fig, ax = plt.subplots(1, 1)\n",
    "ax.pie(df.Class.value_counts(),autopct='%1.1f%%', labels=['Genuine','Fraud'], colors=['yellowgreen','r'])\n",
    "plt.axis('equal')\n",
    "plt.ylabel('')"
   ]
  },
  {
   "cell_type": "code",
   "execution_count": 19,
   "id": "6650a33e",
   "metadata": {},
   "outputs": [
    {
     "name": "stdout",
     "output_type": "stream",
     "text": [
      "Time variable\n",
      "284612   NaN\n",
      "284613   NaN\n",
      "284614   NaN\n",
      "284615   NaN\n",
      "284616   NaN\n",
      "Name: Time_Hr, dtype: float64\n"
     ]
    },
    {
     "data": {
      "text/plain": [
       "Text(0, 0.5, '# transactions')"
      ]
     },
     "execution_count": 19,
     "metadata": {},
     "output_type": "execute_result"
    },
    {
     "data": {
      "image/png": "[encoded data removed]",
      "text/plain": [
       "<Figure size 600x300 with 2 Axes>"
      ]
     },
     "metadata": {},
     "output_type": "display_data"
    }
   ],
   "source": [
    "print(\"Time variable\")\n",
    "df[\"Time_Hr\"] = df[\"Time\"]/3600 # convert to hours\n",
    "print(df[\"Time_Hr\"].tail(5))\n",
    "fig, (ax1, ax2) = plt.subplots(2, 1, sharex = True, figsize=(6,3))\n",
    "\n",
    "ax1.hist(df.Time_Hr[df.Class==0],bins=48,color='g',alpha=0.5)\n",
    "ax1.set_title('Genuine')\n",
    "\n",
    "ax2.hist(df.Time_Hr[df.Class==1],bins=48,color='r',alpha=0.5)\n",
    "ax2.set_title('Fraud')\n",
    "\n",
    "plt.xlabel('Time (hrs)')\n",
    "plt.ylabel('# transactions')"
   ]
  },
  {
   "cell_type": "code",
   "execution_count": 20,
   "id": "ad5757de",
   "metadata": {},
   "outputs": [
    {
     "data": {
      "text/plain": [
       "Text(0, 0.5, '# transactions')"
      ]
     },
     "execution_count": 20,
     "metadata": {},
     "output_type": "execute_result"
    },
    {
     "data": {
      "image/png": "[encoded data removed]",
      "text/plain": [
       "<Figure size 600x300 with 2 Axes>"
      ]
     },
     "metadata": {},
     "output_type": "display_data"
    }
   ],
   "source": [
    "fig, (ax3,ax4) = plt.subplots(2,1, figsize = (6,3), sharex = True)\n",
    "ax3.hist(df.Amount[df.Class==0],bins=50,color='g',alpha=0.5)\n",
    "ax3.set_yscale('log') # to see the tails\n",
    "ax3.set_title('Genuine') # to see the tails\n",
    "ax3.set_ylabel('# transactions')\n",
    "ax4.hist(df.Amount[df.Class==1],bins=50,color='r',alpha=0.5)\n",
    "ax4.set_yscale('log') # to see the tails\n",
    "ax4.set_title('Fraud') # to see the tails\n",
    "ax4.set_xlabel('Amount ($)')\n",
    "ax4.set_ylabel('# transactions')"
   ]
  },
  {
   "cell_type": "code",
   "execution_count": 21,
   "id": "202ba0c0",
   "metadata": {},
   "outputs": [],
   "source": [
    "from sklearn.preprocessing import StandardScaler\n",
    "df['scaled_Amount'] = StandardScaler().fit_transform(df['Amount'].values.reshape(-1,1))\n",
    "df = df.drop(['Amount'],axis=1)"
   ]
  },
  {
   "cell_type": "code",
   "execution_count": 22,
   "id": "13f49dbf",
   "metadata": {},
   "outputs": [
    {
     "name": "stdout",
     "output_type": "stream",
     "text": [
      "Defaulting to user installation because normal site-packages is not writeable\n",
      "Collecting seaborn\n",
      "  Downloading seaborn-0.12.1-py3-none-any.whl (288 kB)\n",
      "\u001b[2K     \u001b[38;2;114;156;31m━━━━━━━━━━━━━━━━━━━━━━━━━━━━━━━━━━━━━━━\u001b[0m \u001b[32m288.2/288.2 kB\u001b[0m \u001b[31m1.9 MB/s\u001b[0m eta \u001b[36m0:00:00\u001b[0mm eta \u001b[36m0:00:01\u001b[0m0:01\u001b[0m\n",
      "\u001b[?25hRequirement already satisfied: numpy>=1.17 in /home/piyush/.local/lib/python3.11/site-packages (from seaborn) (1.24.0)\n",
      "Requirement already satisfied: pandas>=0.25 in /home/piyush/.local/lib/python3.11/site-packages (from seaborn) (1.5.2)\n",
      "Requirement already satisfied: matplotlib!=3.6.1,>=3.1 in /home/piyush/.local/lib/python3.11/site-packages (from seaborn) (3.6.2)\n",
      "Requirement already satisfied: contourpy>=1.0.1 in /home/piyush/.local/lib/python3.11/site-packages (from matplotlib!=3.6.1,>=3.1->seaborn) (1.0.6)\n",
      "Requirement already satisfied: cycler>=0.10 in /home/piyush/.local/lib/python3.11/site-packages (from matplotlib!=3.6.1,>=3.1->seaborn) (0.11.0)\n",
      "Requirement already satisfied: fonttools>=4.22.0 in /home/piyush/.local/lib/python3.11/site-packages (from matplotlib!=3.6.1,>=3.1->seaborn) (4.38.0)\n",
      "Requirement already satisfied: kiwisolver>=1.0.1 in /home/piyush/.local/lib/python3.11/site-packages (from matplotlib!=3.6.1,>=3.1->seaborn) (1.4.4)\n",
      "Requirement already satisfied: packaging>=20.0 in /usr/lib/python3.11/site-packages (from matplotlib!=3.6.1,>=3.1->seaborn) (21.3)\n",
      "Requirement already satisfied: pillow>=6.2.0 in /usr/lib64/python3.11/site-packages (from matplotlib!=3.6.1,>=3.1->seaborn) (9.2.0)\n",
      "Requirement already satisfied: pyparsing>=2.2.1 in /usr/lib/python3.11/site-packages (from matplotlib!=3.6.1,>=3.1->seaborn) (3.0.9)\n",
      "Requirement already satisfied: python-dateutil>=2.7 in /usr/lib/python3.11/site-packages (from matplotlib!=3.6.1,>=3.1->seaborn) (2.8.2)\n",
      "Requirement already satisfied: pytz>=2020.1 in /home/piyush/.local/lib/python3.11/site-packages (from pandas>=0.25->seaborn) (2022.7)\n",
      "Requirement already satisfied: six>=1.5 in /usr/lib/python3.11/site-packages (from python-dateutil>=2.7->matplotlib!=3.6.1,>=3.1->seaborn) (1.16.0)\n",
      "Installing collected packages: seaborn\n",
      "Successfully installed seaborn-0.12.1\n"
     ]
    }
   ],
   "source": [
    "!pip install seaborn"
   ]
  },
  {
   "cell_type": "code",
   "execution_count": 23,
   "id": "fae4033a",
   "metadata": {},
   "outputs": [],
   "source": [
    "import seaborn as sns\n",
    "import matplotlib.gridspec as gridspec"
   ]
  },
  {
   "cell_type": "code",
   "execution_count": 24,
   "id": "4d6d6d82",
   "metadata": {},
   "outputs": [
    {
     "data": {
      "text/plain": [
       "<Figure size 600x11200 with 0 Axes>"
      ]
     },
     "execution_count": 24,
     "metadata": {},
     "output_type": "execute_result"
    },
    {
     "data": {
      "text/plain": [
       "<Figure size 600x11200 with 0 Axes>"
      ]
     },
     "metadata": {},
     "output_type": "display_data"
    }
   ],
   "source": [
    "gs = gridspec.GridSpec(28, 1)\n",
    "plt.figure(figsize=(6,28*4))"
   ]
  },
  {
   "cell_type": "code",
   "execution_count": null,
   "id": "bd1897b4",
   "metadata": {},
   "outputs": [
    {
     "name": "stderr",
     "output_type": "stream",
     "text": [
      "/tmp/ipykernel_58109/1296190988.py:2: MatplotlibDeprecationWarning: Auto-removal of overlapping axes is deprecated since 3.6 and will be removed two minor releases later; explicitly call ax.remove() as needed.\n",
      "  ax5 = plt.subplot(gs[i])\n",
      "/tmp/ipykernel_58109/1296190988.py:2: MatplotlibDeprecationWarning: Auto-removal of overlapping axes is deprecated since 3.6 and will be removed two minor releases later; explicitly call ax.remove() as needed.\n",
      "  ax5 = plt.subplot(gs[i])\n",
      "/tmp/ipykernel_58109/1296190988.py:2: MatplotlibDeprecationWarning: Auto-removal of overlapping axes is deprecated since 3.6 and will be removed two minor releases later; explicitly call ax.remove() as needed.\n",
      "  ax5 = plt.subplot(gs[i])\n",
      "/tmp/ipykernel_58109/1296190988.py:2: MatplotlibDeprecationWarning: Auto-removal of overlapping axes is deprecated since 3.6 and will be removed two minor releases later; explicitly call ax.remove() as needed.\n",
      "  ax5 = plt.subplot(gs[i])\n",
      "/tmp/ipykernel_58109/1296190988.py:2: MatplotlibDeprecationWarning: Auto-removal of overlapping axes is deprecated since 3.6 and will be removed two minor releases later; explicitly call ax.remove() as needed.\n",
      "  ax5 = plt.subplot(gs[i])\n",
      "/tmp/ipykernel_58109/1296190988.py:2: MatplotlibDeprecationWarning: Auto-removal of overlapping axes is deprecated since 3.6 and will be removed two minor releases later; explicitly call ax.remove() as needed.\n",
      "  ax5 = plt.subplot(gs[i])\n",
      "/tmp/ipykernel_58109/1296190988.py:2: MatplotlibDeprecationWarning: Auto-removal of overlapping axes is deprecated since 3.6 and will be removed two minor releases later; explicitly call ax.remove() as needed.\n",
      "  ax5 = plt.subplot(gs[i])\n",
      "/tmp/ipykernel_58109/1296190988.py:2: MatplotlibDeprecationWarning: Auto-removal of overlapping axes is deprecated since 3.6 and will be removed two minor releases later; explicitly call ax.remove() as needed.\n",
      "  ax5 = plt.subplot(gs[i])\n",
      "/tmp/ipykernel_58109/1296190988.py:2: MatplotlibDeprecationWarning: Auto-removal of overlapping axes is deprecated since 3.6 and will be removed two minor releases later; explicitly call ax.remove() as needed.\n",
      "  ax5 = plt.subplot(gs[i])\n",
      "/home/piyush/.local/lib/python3.11/site-packages/seaborn/axisgrid.py:447: RuntimeWarning: More than 20 figures have been opened. Figures created through the pyplot interface (`matplotlib.pyplot.figure`) are retained until explicitly closed and may consume too much memory. (To control this warning, see the rcParam `figure.max_open_warning`). Consider using `matplotlib.pyplot.close()`.\n",
      "  fig = plt.figure(figsize=figsize)\n",
      "/tmp/ipykernel_58109/1296190988.py:2: MatplotlibDeprecationWarning: Auto-removal of overlapping axes is deprecated since 3.6 and will be removed two minor releases later; explicitly call ax.remove() as needed.\n",
      "  ax5 = plt.subplot(gs[i])\n",
      "/tmp/ipykernel_58109/1296190988.py:2: MatplotlibDeprecationWarning: Auto-removal of overlapping axes is deprecated since 3.6 and will be removed two minor releases later; explicitly call ax.remove() as needed.\n",
      "  ax5 = plt.subplot(gs[i])\n",
      "/tmp/ipykernel_58109/1296190988.py:2: MatplotlibDeprecationWarning: Auto-removal of overlapping axes is deprecated since 3.6 and will be removed two minor releases later; explicitly call ax.remove() as needed.\n",
      "  ax5 = plt.subplot(gs[i])\n",
      "/tmp/ipykernel_58109/1296190988.py:2: MatplotlibDeprecationWarning: Auto-removal of overlapping axes is deprecated since 3.6 and will be removed two minor releases later; explicitly call ax.remove() as needed.\n",
      "  ax5 = plt.subplot(gs[i])\n",
      "/tmp/ipykernel_58109/1296190988.py:2: MatplotlibDeprecationWarning: Auto-removal of overlapping axes is deprecated since 3.6 and will be removed two minor releases later; explicitly call ax.remove() as needed.\n",
      "  ax5 = plt.subplot(gs[i])\n",
      "/tmp/ipykernel_58109/1296190988.py:2: MatplotlibDeprecationWarning: Auto-removal of overlapping axes is deprecated since 3.6 and will be removed two minor releases later; explicitly call ax.remove() as needed.\n",
      "  ax5 = plt.subplot(gs[i])\n",
      "/tmp/ipykernel_58109/1296190988.py:2: MatplotlibDeprecationWarning: Auto-removal of overlapping axes is deprecated since 3.6 and will be removed two minor releases later; explicitly call ax.remove() as needed.\n",
      "  ax5 = plt.subplot(gs[i])\n",
      "/tmp/ipykernel_58109/1296190988.py:2: MatplotlibDeprecationWarning: Auto-removal of overlapping axes is deprecated since 3.6 and will be removed two minor releases later; explicitly call ax.remove() as needed.\n",
      "  ax5 = plt.subplot(gs[i])\n",
      "/tmp/ipykernel_58109/1296190988.py:2: MatplotlibDeprecationWarning: Auto-removal of overlapping axes is deprecated since 3.6 and will be removed two minor releases later; explicitly call ax.remove() as needed.\n",
      "  ax5 = plt.subplot(gs[i])\n",
      "/tmp/ipykernel_58109/1296190988.py:2: MatplotlibDeprecationWarning: Auto-removal of overlapping axes is deprecated since 3.6 and will be removed two minor releases later; explicitly call ax.remove() as needed.\n",
      "  ax5 = plt.subplot(gs[i])\n"
     ]
    }
   ],
   "source": [
    "for i, col in enumerate(df[df.iloc[:,0:28].columns]):\n",
    "    ax5 = plt.subplot(gs[i])\n",
    "    sns.distplot(df[col][df.Class == 1], bins=50, color='r')\n",
    "    sns.distplot(df[col][df.Class == 0], bins=50, color='g')\n",
    "    ax5.set_xlabel('')\n",
    "    ax5.set_title('feature: ' + str(col))"
   ]
  },
  {
   "cell_type": "code",
   "execution_count": 26,
   "id": "77088f64",
   "metadata": {},
   "outputs": [],
   "source": [
    "plt.show()"
   ]
  }
 ],
 "metadata": {
  "kernelspec": {
   "display_name": "Python 3 (ipykernel)",
   "language": "python",
   "name": "python3"
  },
  "language_info": {
   "codemirror_mode": {
    "name": "ipython",
    "version": 3
   },
   "file_extension": ".py",
   "mimetype": "text/x-python",
   "name": "python",
   "nbconvert_exporter": "python",
   "pygments_lexer": "ipython3",
   "version": "3.11.0"
  }
 },
 "nbformat": 4,
 "nbformat_minor": 5
}
